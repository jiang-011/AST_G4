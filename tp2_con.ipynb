version https://git-lfs.github.com/spec/v1
oid sha256:4ade4c15a17b7eeefb13fabeb4a880eaf39d18117787fdfec1a5aa90c03ad345
size 198264119
